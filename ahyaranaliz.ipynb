{
 "cells": [
  {
   "cell_type": "code",
   "execution_count": 2,
   "metadata": {},
   "outputs": [
    {
     "name": "stdout",
     "output_type": "stream",
     "text": [
      "Collecting xlrd\n",
      "  Downloading xlrd-2.0.1-py2.py3-none-any.whl (96 kB)\n",
      "     ---------------------------------------- 0.0/96.5 kB ? eta -:--:--\n",
      "     ------------ --------------------------- 30.7/96.5 kB 1.4 MB/s eta 0:00:01\n",
      "     -------------------------------------- - 92.2/96.5 kB 1.1 MB/s eta 0:00:01\n",
      "     -------------------------------------- 96.5/96.5 kB 927.9 kB/s eta 0:00:00\n",
      "Installing collected packages: xlrd\n",
      "Successfully installed xlrd-2.0.1\n",
      "Note: you may need to restart the kernel to use updated packages.\n"
     ]
    }
   ],
   "source": [
    "pip install xlrd\n"
   ]
  },
  {
   "cell_type": "code",
   "execution_count": 4,
   "metadata": {},
   "outputs": [
    {
     "name": "stdout",
     "output_type": "stream",
     "text": [
      "Collecting XlsxWriterNote: you may need to restart the kernel to use updated packages.\n",
      "\n",
      "  Obtaining dependency information for XlsxWriter from https://files.pythonhosted.org/packages/37/94/25d3ec8587974de7ebd790232aa3155abfe44ed23df7ccaa4645977a1cbe/XlsxWriter-3.1.2-py3-none-any.whl.metadata\n",
      "  Downloading XlsxWriter-3.1.2-py3-none-any.whl.metadata (2.5 kB)\n",
      "Downloading XlsxWriter-3.1.2-py3-none-any.whl (153 kB)\n",
      "   ---------------------------------------- 0.0/153.0 kB ? eta -:--:--\n",
      "   -------- ------------------------------- 30.7/153.0 kB 1.4 MB/s eta 0:00:01\n",
      "   ----------------------------- ---------- 112.6/153.0 kB 1.7 MB/s eta 0:00:01\n",
      "   ---------------------------------------- 153.0/153.0 kB 1.3 MB/s eta 0:00:00\n",
      "Installing collected packages: XlsxWriter\n",
      "Successfully installed XlsxWriter-3.1.2\n"
     ]
    }
   ],
   "source": [
    "pip install XlsxWriter\n"
   ]
  },
  {
   "cell_type": "code",
   "execution_count": 8,
   "metadata": {},
   "outputs": [],
   "source": [
    "import pandas as pd\n",
    "\n",
    "# 2022 ve 2023 Excel dosyalarını oku\n",
    "df_2022 = pd.read_excel('2022.xls')\n",
    "df_2023 = pd.read_excel('2023.xls')\n",
    "\n",
    "# Yeni bir 'Tarih' sütunu ekleyip değerlerini ayarla\n",
    "df_2022['Tarih'] = '2022-ağustos'\n",
    "df_2023['Tarih'] = '2023-ağustos'\n",
    "\n",
    "# Değişiklikleri kaydetmek için 'xlsxwriter' motorunu kullanarak yeni dosyaları oluşturun\n",
    "writer_2022 = pd.ExcelWriter('2022_with_tarih.xls', engine='xlsxwriter')\n",
    "writer_2023 = pd.ExcelWriter('2023_with_tarih.xls', engine='xlsxwriter')\n",
    "\n",
    "# Verileri yazın\n",
    "df_2022.to_excel(writer_2022, index=False)\n",
    "df_2023.to_excel(writer_2023, index=False)\n",
    "\n",
    "# ExcelWriter nesnelerini kapatın\n",
    "writer_2022.close()\n",
    "writer_2023.close()\n"
   ]
  },
  {
   "cell_type": "code",
   "execution_count": 9,
   "metadata": {},
   "outputs": [],
   "source": [
    "import pandas as pd\n",
    "\n",
    "# İki Excel dosyasını oku\n",
    "df_2022 = pd.read_excel('2022_with_tarih.xls')\n",
    "df_2023 = pd.read_excel('2023_with_tarih.xls')\n",
    "\n",
    "# İki veri çerçevesini birleştir\n",
    "combined_df = pd.concat([df_2022, df_2023], ignore_index=True)\n",
    "\n",
    "# Birleştirilmiş veriyi yeni bir Excel dosyasına kaydet\n",
    "combined_df.to_excel('combined_excel.xlsx', index=False)\n"
   ]
  },
  {
   "cell_type": "code",
   "execution_count": 10,
   "metadata": {},
   "outputs": [
    {
     "name": "stdout",
     "output_type": "stream",
     "text": [
      "Tarih\n",
      "2022-ağustos    199\n",
      "2023-ağustos    181\n",
      "Name: count, dtype: int64\n"
     ]
    }
   ],
   "source": [
    "import pandas as pd\n",
    "\n",
    "# Birleştirilmiş Excel dosyasını oku\n",
    "combined_df = pd.read_excel('combined_excel.xlsx')\n",
    "\n",
    "# 'Tarih' sütunundaki değerlerin sayısını hesapla\n",
    "counts = combined_df['Tarih'].value_counts()\n",
    "\n",
    "# Sonuçları yazdır\n",
    "print(counts)\n"
   ]
  },
  {
   "cell_type": "code",
   "execution_count": 11,
   "metadata": {},
   "outputs": [
    {
     "name": "stdout",
     "output_type": "stream",
     "text": [
      "Eşleşen 116 ürün var.\n",
      "Eşleşmeyen 146 ürün var.\n"
     ]
    }
   ],
   "source": [
    "import pandas as pd\n",
    "\n",
    "# Birleştirilmiş Excel dosyasını oku\n",
    "combined_df = pd.read_excel('combined_excel.xlsx')\n",
    "\n",
    "# Eşleşen ve eşleşmeyen ürünleri bulmak için gruplama yapın\n",
    "grouped = combined_df.groupby('Kodu')\n",
    "\n",
    "matching_count = 0\n",
    "non_matching_count = 0\n",
    "\n",
    "for code, group in grouped:\n",
    "    if len(group['Tarih'].unique()) == 2:\n",
    "        matching_count += 1\n",
    "    else:\n",
    "        non_matching_count += 1\n",
    "\n",
    "# Sonuçları yazdır\n",
    "print(f\"Eşleşen {matching_count} ürün var.\")\n",
    "print(f\"Eşleşmeyen {non_matching_count} ürün var.\")\n"
   ]
  },
  {
   "cell_type": "code",
   "execution_count": 12,
   "metadata": {},
   "outputs": [
    {
     "name": "stdout",
     "output_type": "stream",
     "text": [
      "Eşleşen 116 ürün var.\n",
      "Eşleşmeyen 146 ürün var.\n"
     ]
    }
   ],
   "source": [
    "import pandas as pd\n",
    "\n",
    "# Birleştirilmiş Excel dosyasını oku\n",
    "combined_df = pd.read_excel('combined_excel.xlsx')\n",
    "\n",
    "# Eşleşen ve eşleşmeyen ürünleri bulmak için gruplama yapın\n",
    "grouped = combined_df.groupby('Açıklama')\n",
    "\n",
    "matching_count = 0\n",
    "non_matching_count = 0\n",
    "\n",
    "for code, group in grouped:\n",
    "    if len(group['Tarih'].unique()) == 2:\n",
    "        matching_count += 1\n",
    "    else:\n",
    "        non_matching_count += 1\n",
    "\n",
    "# Sonuçları yazdır\n",
    "print(f\"Eşleşen {matching_count} ürün var.\")\n",
    "print(f\"Eşleşmeyen {non_matching_count} ürün var.\")"
   ]
  },
  {
   "cell_type": "code",
   "execution_count": 13,
   "metadata": {},
   "outputs": [
    {
     "name": "stdout",
     "output_type": "stream",
     "text": [
      "Açıklama sütunu boş olan satır sayısı: 2\n"
     ]
    }
   ],
   "source": [
    "import pandas as pd\n",
    "\n",
    "# Birleştirilmiş Excel dosyasını oku\n",
    "combined_df = pd.read_excel('combined_excel.xlsx')\n",
    "\n",
    "# Açıklama sütununda boş olan satırları seç\n",
    "empty_description = combined_df['Açıklama'].isna()\n",
    "\n",
    "# Boş olan satırların sayısını bul\n",
    "empty_description_count = empty_description.sum()\n",
    "\n",
    "# Sonucu yazdır\n",
    "print(f\"Açıklama sütunu boş olan satır sayısı: {empty_description_count}\")\n"
   ]
  },
  {
   "cell_type": "code",
   "execution_count": 14,
   "metadata": {},
   "outputs": [],
   "source": [
    "import pandas as pd\n",
    "\n",
    "# Birleştirilmiş Excel dosyasını oku\n",
    "combined_df = pd.read_excel('combined_excel.xlsx')\n",
    "\n",
    "# Açıklama sütununda boş olan satırları silmek için dropna() fonksiyonunu kullanın\n",
    "combined_df = combined_df.dropna(subset=['Açıklama'])\n",
    "\n",
    "# Güncellenmiş veriyi yeni bir Excel dosyasına kaydedebilirsiniz\n",
    "combined_df.to_excel('combined_excel_without_empty_rows.xlsx', index=False)\n"
   ]
  },
  {
   "cell_type": "code",
   "execution_count": 15,
   "metadata": {},
   "outputs": [
    {
     "name": "stdout",
     "output_type": "stream",
     "text": [
      "Tarih\n",
      "2022-ağustos    198\n",
      "2023-ağustos    180\n",
      "Name: count, dtype: int64\n"
     ]
    }
   ],
   "source": [
    "# 'Tarih' sütunundaki değerlerin sayısını hesapla\n",
    "counts = combined_df['Tarih'].value_counts()\n",
    "\n",
    "# Sonuçları yazdır\n",
    "print(counts)\n"
   ]
  },
  {
   "cell_type": "code",
   "execution_count": 16,
   "metadata": {},
   "outputs": [
    {
     "name": "stdout",
     "output_type": "stream",
     "text": [
      "Eşleşen 116 ürün var.\n",
      "Eşleşmeyen 146 ürün var.\n"
     ]
    }
   ],
   "source": [
    "# Eşleşen ve eşleşmeyen ürünleri bulmak için gruplama yapın\n",
    "grouped = combined_df.groupby('Kodu')\n",
    "\n",
    "matching_count = 0\n",
    "non_matching_count = 0\n",
    "\n",
    "for code, group in grouped:\n",
    "    if len(group['Tarih'].unique()) == 2:\n",
    "        matching_count += 1\n",
    "    else:\n",
    "        non_matching_count += 1\n",
    "\n",
    "# Sonuçları yazdır\n",
    "print(f\"Eşleşen {matching_count} ürün var.\")\n",
    "print(f\"Eşleşmeyen {non_matching_count} ürün var.\")"
   ]
  },
  {
   "cell_type": "code",
   "execution_count": 18,
   "metadata": {},
   "outputs": [],
   "source": [
    "import pandas as pd\n",
    "\n",
    "# Birleştirilmiş Excel dosyasını oku\n",
    "combined_df = pd.read_excel('combined_excel.xlsx')\n",
    "\n",
    "# Eşleşen ürünleri ve eşleşmeyen ürünleri ayırın\n",
    "matching_products = combined_df[combined_df.duplicated(subset=['Kodu'], keep=False)]\n",
    "non_matching_products = combined_df[~combined_df.duplicated(subset=['Kodu'], keep=False)]\n",
    "\n",
    "# Eşleşen ürünleri yeni bir Excel dosyasına kaydedin\n",
    "matching_products.to_excel('matching_products.xlsx', index=False)\n",
    "\n",
    "# Eşleşmeyen ürünleri yeni bir Excel dosyasına kaydedin\n",
    "non_matching_products.to_excel('non_matching_products.xlsx', index=False)\n"
   ]
  },
  {
   "cell_type": "code",
   "execution_count": 21,
   "metadata": {},
   "outputs": [],
   "source": [
    "import pandas as pd\n",
    "import numpy as np\n",
    "\n",
    "# Eşleşen ürünleri içeren Excel dosyasını oku\n",
    "matching_products_df = pd.read_excel('matching_products.xlsx')\n",
    "\n",
    "# Ürünleri gruplandırmak için bir işlev tanımlayın\n",
    "def group_products(description):\n",
    "    if pd.notna(description):  # Boş olmayan hücreleri kontrol et\n",
    "        if 'süt' in description.lower() or 'yufka' in description.lower() or 'yumurta' in description.lower():\n",
    "            return 'Grup 1: Süt, Yufka ve Yumurta'\n",
    "        elif 'peynir' in description.lower() or 'kaymak' in description.lower() or 'yoğurt' in description.lower():\n",
    "            return 'Grup 2: Peynir, Kaymak ve Yoğurt'\n",
    "    return 'Diğer Grup'\n",
    "\n",
    "# \"Grup\" adında yeni bir sütun oluşturun ve ürünleri gruplandırın\n",
    "matching_products_df['Grup'] = matching_products_df['Açıklama'].apply(group_products)\n",
    "\n",
    "# Gruplandırılmış veriyi yeni bir Excel dosyasına kaydedin\n",
    "matching_products_df.to_excel('matching_products_grouped.xlsx', index=False)\n"
   ]
  },
  {
   "cell_type": "code",
   "execution_count": 22,
   "metadata": {},
   "outputs": [
    {
     "name": "stdout",
     "output_type": "stream",
     "text": [
      "Grup\n",
      "Diğer Grup                          208\n",
      "Grup 1: Süt, Yufka ve Yumurta        18\n",
      "Grup 2: Peynir, Kaymak ve Yoğurt      8\n",
      "Name: count, dtype: int64\n"
     ]
    }
   ],
   "source": [
    "import pandas as pd\n",
    "\n",
    "# Gruplandırılmış ürünleri içeren Excel dosyasını oku\n",
    "grouped_products_df = pd.read_excel('matching_products_grouped.xlsx')\n",
    "\n",
    "# Her bir gruptaki ürün sayısını hesapla\n",
    "group_counts = grouped_products_df['Grup'].value_counts()\n",
    "\n",
    "# Sonuçları yazdır\n",
    "print(group_counts)\n"
   ]
  },
  {
   "cell_type": "code",
   "execution_count": 24,
   "metadata": {},
   "outputs": [
    {
     "name": "stdout",
     "output_type": "stream",
     "text": [
      "                         Açıklama  Miktar\n",
      "7                      EV YOĞURTU   91.00\n",
      "18   ÇAMLICA DOĞAL YOĞURT 900 GR.   19.00\n",
      "44            KAYMAK KÜÇÜKÇİFTLİK    6.68\n",
      "79                   SÜZME YOĞURT    2.87\n",
      "124                    EV YOĞURTU  130.00\n",
      "140  ÇAMLICA DOĞAL YOĞURT 900 GR.   15.00\n",
      "184           KAYMAK KÜÇÜKÇİFTLİK    3.43\n",
      "196                  SÜZME YOĞURT    2.19\n"
     ]
    }
   ],
   "source": [
    "import pandas as pd\n",
    "\n",
    "# Eşleşen ürünleri içeren Excel dosyasını oku\n",
    "grouped_products_df = pd.read_excel('matching_products_grouped.xlsx')\n",
    "\n",
    "# Grup 2'deki ürünleri seç\n",
    "group_2_products = grouped_products_df[grouped_products_df['Grup'] == 'Grup 2: Peynir, Kaymak ve Yoğurt']\n",
    "\n",
    "# Sadece \"Açıklama\" ve \"Miktar\" sütunlarını yazdır\n",
    "selected_columns = ['Açıklama', 'Miktar']\n",
    "group_2_products[selected_columns].to_excel('group_2_products.xlsx', index=False)\n",
    "\n",
    "# Grup 2'deki ürünleri yazdır\n",
    "print(group_2_products[selected_columns])\n"
   ]
  },
  {
   "cell_type": "code",
   "execution_count": 28,
   "metadata": {},
   "outputs": [
    {
     "data": {
      "image/png": "[encoded data removed]",
      "text/plain": [
       "<Figure size 640x480 with 1 Axes>"
      ]
     },
     "metadata": {},
     "output_type": "display_data"
    }
   ],
   "source": [
    "import pandas as pd\n",
    "import matplotlib.pyplot as plt\n",
    "\n",
    "# Eşleşen ürünleri içeren Excel dosyasını oku\n",
    "grouped_products_df = pd.read_excel('matching_products_grouped.xlsx')\n",
    "\n",
    "def parse_date(date_str):\n",
    "    # Tarih formatını dönüştür\n",
    "    if date_str.endswith('-ağustos'):\n",
    "        year = date_str.split('-')[0]\n",
    "        return f\"{year}-08\"\n",
    "    else:\n",
    "        return date_str  # Formatı değiştirmeyin\n",
    "\n",
    "# \"Tarih\" sütununu uygun formata dönüştür\n",
    "grouped_products_df['Tarih'] = grouped_products_df['Tarih'].apply(parse_date)\n",
    "\n",
    "# Grup 2'deki ürünleri seç\n",
    "group_2_products = grouped_products_df[grouped_products_df['Grup'] == 'Grup 2: Peynir, Kaymak ve Yoğurt']\n",
    "\n",
    "# 2022-ağustos ve 2023-ağustos tarihlerine sahip satırları seç\n",
    "august_2022 = group_2_products[group_2_products['Tarih'] == '2022-08']\n",
    "august_2023 = group_2_products[group_2_products['Tarih'] == '2023-08']\n",
    "\n",
    "# 2022 ve 2023 yıllarındaki toplam miktarları hesapla\n",
    "total_2022 = august_2022['Miktar'].sum()\n",
    "total_2023 = august_2023['Miktar'].sum()\n",
    "\n",
    "# Çubuk grafiği çizme\n",
    "years = ['2022', '2023']\n",
    "values = [total_2022, total_2023]\n",
    "\n",
    "plt.bar(years, values)\n",
    "plt.xlabel('Yıl')\n",
    "plt.ylabel('Toplam Miktar')\n",
    "plt.title('Grup 2 için 2022 ve 2023 Ağustos Toplam Miktar Karşılaştırması')\n",
    "plt.show()\n"
   ]
  },
  {
   "cell_type": "code",
   "execution_count": 29,
   "metadata": {},
   "outputs": [
    {
     "name": "stderr",
     "output_type": "stream",
     "text": [
      "C:\\Users\\yucel\\AppData\\Local\\Temp\\ipykernel_20268\\3872945379.py:22: SettingWithCopyWarning: \n",
      "A value is trying to be set on a copy of a slice from a DataFrame.\n",
      "Try using .loc[row_indexer,col_indexer] = value instead\n",
      "\n",
      "See the caveats in the documentation: https://pandas.pydata.org/pandas-docs/stable/user_guide/indexing.html#returning-a-view-versus-a-copy\n",
      "  group_2_products['Tarih'] = pd.to_datetime(group_2_products['Tarih'])\n"
     ]
    },
    {
     "data": {
      "image/png": "[encoded data removed]",
      "text/plain": [
       "<Figure size 1200x600 with 1 Axes>"
      ]
     },
     "metadata": {},
     "output_type": "display_data"
    }
   ],
   "source": [
    "import pandas as pd\n",
    "import matplotlib.pyplot as plt\n",
    "\n",
    "# Eşleşen ürünleri içeren Excel dosyasını oku\n",
    "grouped_products_df = pd.read_excel('matching_products_grouped.xlsx')\n",
    "\n",
    "# \"Tarih\" sütununu işlemek için özel bir fonksiyon tanımla\n",
    "def parse_date(date_str):\n",
    "    if date_str.endswith('-ağustos'):\n",
    "        year = date_str.split('-')[0]\n",
    "        return f\"{year}-08\"\n",
    "    else:\n",
    "        return date_str\n",
    "\n",
    "# \"Tarih\" sütununu uygun formata dönüştür\n",
    "grouped_products_df['Tarih'] = grouped_products_df['Tarih'].apply(parse_date)\n",
    "\n",
    "# Grup 2'deki ürünleri seç\n",
    "group_2_products = grouped_products_df[grouped_products_df['Grup'] == 'Grup 2: Peynir, Kaymak ve Yoğurt']\n",
    "\n",
    "# 2022 ve 2023 yıllarındaki toplam miktarları hesapla\n",
    "group_2_products['Tarih'] = pd.to_datetime(group_2_products['Tarih'])\n",
    "august_2022 = group_2_products[group_2_products['Tarih'].dt.strftime('%Y-%B') == '2022-August']\n",
    "august_2023 = group_2_products[group_2_products['Tarih'].dt.strftime('%Y-%B') == '2023-August']\n",
    "\n",
    "# Ürünleri ve miktarları ayır\n",
    "products = group_2_products['Açıklama'].unique()\n",
    "values_2022 = [august_2022[august_2022['Açıklama'] == product]['Miktar'].sum() for product in products]\n",
    "values_2023 = [august_2023[august_2023['Açıklama'] == product]['Miktar'].sum() for product in products]\n",
    "\n",
    "# Çubuk grafiği çizme\n",
    "x = range(len(products))\n",
    "width = 0.35\n",
    "\n",
    "fig, ax = plt.subplots(figsize=(12, 6))\n",
    "bar1 = ax.bar(x, values_2022, width, label='2022')\n",
    "bar2 = ax.bar([i + width for i in x], values_2023, width, label='2023')\n",
    "\n",
    "ax.set_xlabel('Ürünler')\n",
    "ax.set_ylabel('Miktar')\n",
    "ax.set_title('Grup 2 Ürünleri için 2022 ve 2023 Ağustos Miktar Karşılaştırması')\n",
    "ax.set_xticks([i + width/2 for i in x])\n",
    "ax.set_xticklabels(products, rotation=45)\n",
    "ax.legend()\n",
    "\n",
    "plt.show()\n"
   ]
  },
  {
   "cell_type": "code",
   "execution_count": 30,
   "metadata": {},
   "outputs": [
    {
     "name": "stderr",
     "output_type": "stream",
     "text": [
      "C:\\Users\\yucel\\AppData\\Local\\Temp\\ipykernel_20268\\4264255062.py:22: SettingWithCopyWarning: \n",
      "A value is trying to be set on a copy of a slice from a DataFrame.\n",
      "Try using .loc[row_indexer,col_indexer] = value instead\n",
      "\n",
      "See the caveats in the documentation: https://pandas.pydata.org/pandas-docs/stable/user_guide/indexing.html#returning-a-view-versus-a-copy\n",
      "  group_2_products['Tarih'] = pd.to_datetime(group_2_products['Tarih'])\n"
     ]
    },
    {
     "data": {
      "image/png": "[encoded data removed]",
      "text/plain": [
       "<Figure size 1200x600 with 1 Axes>"
      ]
     },
     "metadata": {},
     "output_type": "display_data"
    }
   ],
   "source": [
    "import pandas as pd\n",
    "import matplotlib.pyplot as plt\n",
    "\n",
    "# Eşleşen ürünleri içeren Excel dosyasını oku\n",
    "grouped_products_df = pd.read_excel('matching_products_grouped.xlsx')\n",
    "\n",
    "# \"Tarih\" sütununu işlemek için özel bir fonksiyon tanımla\n",
    "def parse_date(date_str):\n",
    "    if date_str.endswith('-ağustos'):\n",
    "        year = date_str.split('-')[0]\n",
    "        return f\"{year}-08\"\n",
    "    else:\n",
    "        return date_str\n",
    "\n",
    "# \"Tarih\" sütununu uygun formata dönüştür\n",
    "grouped_products_df['Tarih'] = grouped_products_df['Tarih'].apply(parse_date)\n",
    "\n",
    "# Grup 2'deki ürünleri seç\n",
    "group_2_products = grouped_products_df[grouped_products_df['Grup'] == 'Grup 2: Peynir, Kaymak ve Yoğurt']\n",
    "\n",
    "# 2022 ve 2023 yıllarındaki toplam miktarları hesapla\n",
    "group_2_products['Tarih'] = pd.to_datetime(group_2_products['Tarih'])\n",
    "august_2022 = group_2_products[group_2_products['Tarih'].dt.strftime('%Y-%B') == '2022-August']\n",
    "august_2023 = group_2_products[group_2_products['Tarih'].dt.strftime('%Y-%B') == '2023-August']\n",
    "\n",
    "# Ürünleri ve miktarları ayır\n",
    "products = group_2_products['Açıklama'].unique()\n",
    "values_2022 = [august_2022[august_2022['Açıklama'] == product]['Miktar'].sum() for product in products]\n",
    "values_2023 = [august_2023[august_2023['Açıklama'] == product]['Miktar'].sum() for product in products]\n",
    "\n",
    "# Çubuk grafiği çizme\n",
    "x = range(len(products))\n",
    "width = 0.35\n",
    "\n",
    "fig, ax = plt.subplots(figsize=(12, 6))\n",
    "bar1 = ax.bar(x, values_2022, width, label='2022')\n",
    "bar2 = ax.bar([i + width for i in x], values_2023, width, label='2023')\n",
    "\n",
    "ax.set_xlabel('Ürünler')\n",
    "ax.set_ylabel('Miktar')\n",
    "ax.set_title('Grup 2 Ürünleri için 2022 ve 2023 Ağustos Miktar Karşılaştırması')\n",
    "ax.set_xticks([i + width/2 for i in x])\n",
    "ax.set_xticklabels(products, rotation=45)\n",
    "ax.legend()\n",
    "\n",
    "# Çubukların üzerine sayıları ekleme\n",
    "def add_labels(bars):\n",
    "    for bar in bars:\n",
    "        height = bar.get_height()\n",
    "        ax.annotate('{}'.format(height),\n",
    "                    xy=(bar.get_x() + bar.get_width() / 2, height),\n",
    "                    xytext=(0, 3),  # 3 points vertical offset\n",
    "                    textcoords=\"offset points\",\n",
    "                    ha='center', va='bottom')\n",
    "\n",
    "add_labels(bar1)\n",
    "add_labels(bar2)\n",
    "\n",
    "plt.show()\n"
   ]
  },
  {
   "cell_type": "code",
   "execution_count": 42,
   "metadata": {},
   "outputs": [],
   "source": [
    "import pandas as pd\n",
    "\n",
    "# Excel dosyasını oku\n",
    "df = pd.read_excel('matching_products.xlsx')\n",
    "\n",
    "# \"Tarih\" sütunundaki verileri güncelle\n",
    "df['Tarih'] = df['Tarih'].str.replace('2022-ağustos', '2022').str.replace('2023-ağustos', '2023')\n",
    "\n",
    "# Güncellenmiş DataFrame'i başka bir dosyaya kaydetmek isterseniz:\n",
    "# df.to_excel('updated_matching_products.xlsx', index=False)\n",
    "\n",
    "# Şimdi güncellenmiş \"Tarih\" sütununu içeren DataFrame'i kullanabilirsiniz.\n"
   ]
  },
  {
   "cell_type": "code",
   "execution_count": 44,
   "metadata": {},
   "outputs": [
    {
     "ename": "KeyError",
     "evalue": "'2022-ağustos'",
     "output_type": "error",
     "traceback": [
      "\u001b[1;31m---------------------------------------------------------------------------\u001b[0m",
      "\u001b[1;31mKeyError\u001b[0m                                  Traceback (most recent call last)",
      "File \u001b[1;32mc:\\Users\\yucel\\AppData\\Local\\Programs\\Python\\Python311\\Lib\\site-packages\\pandas\\core\\indexes\\base.py:3653\u001b[0m, in \u001b[0;36mIndex.get_loc\u001b[1;34m(self, key)\u001b[0m\n\u001b[0;32m   3652\u001b[0m \u001b[39mtry\u001b[39;00m:\n\u001b[1;32m-> 3653\u001b[0m     \u001b[39mreturn\u001b[39;00m \u001b[39mself\u001b[39;49m\u001b[39m.\u001b[39;49m_engine\u001b[39m.\u001b[39;49mget_loc(casted_key)\n\u001b[0;32m   3654\u001b[0m \u001b[39mexcept\u001b[39;00m \u001b[39mKeyError\u001b[39;00m \u001b[39mas\u001b[39;00m err:\n",
      "File \u001b[1;32mc:\\Users\\yucel\\AppData\\Local\\Programs\\Python\\Python311\\Lib\\site-packages\\pandas\\_libs\\index.pyx:147\u001b[0m, in \u001b[0;36mpandas._libs.index.IndexEngine.get_loc\u001b[1;34m()\u001b[0m\n",
      "File \u001b[1;32mc:\\Users\\yucel\\AppData\\Local\\Programs\\Python\\Python311\\Lib\\site-packages\\pandas\\_libs\\index.pyx:176\u001b[0m, in \u001b[0;36mpandas._libs.index.IndexEngine.get_loc\u001b[1;34m()\u001b[0m\n",
      "File \u001b[1;32mpandas\\_libs\\hashtable_class_helper.pxi:7080\u001b[0m, in \u001b[0;36mpandas._libs.hashtable.PyObjectHashTable.get_item\u001b[1;34m()\u001b[0m\n",
      "File \u001b[1;32mpandas\\_libs\\hashtable_class_helper.pxi:7088\u001b[0m, in \u001b[0;36mpandas._libs.hashtable.PyObjectHashTable.get_item\u001b[1;34m()\u001b[0m\n",
      "\u001b[1;31mKeyError\u001b[0m: '2022-ağustos'",
      "\nThe above exception was the direct cause of the following exception:\n",
      "\u001b[1;31mKeyError\u001b[0m                                  Traceback (most recent call last)",
      "Cell \u001b[1;32mIn[44], line 13\u001b[0m\n\u001b[0;32m     10\u001b[0m first_product \u001b[39m=\u001b[39m df\u001b[39m.\u001b[39miloc[\u001b[39m0\u001b[39m]\n\u001b[0;32m     12\u001b[0m \u001b[39m# İlgili yılların miktarlarını al\u001b[39;00m\n\u001b[1;32m---> 13\u001b[0m august_2022_quantity \u001b[39m=\u001b[39m first_product[\u001b[39m'\u001b[39;49m\u001b[39m2022-ağustos\u001b[39;49m\u001b[39m'\u001b[39;49m]\n\u001b[0;32m     14\u001b[0m august_2023_quantity \u001b[39m=\u001b[39m first_product[\u001b[39m'\u001b[39m\u001b[39m2023-ağustos\u001b[39m\u001b[39m'\u001b[39m]\n\u001b[0;32m     16\u001b[0m \u001b[39m# Miktarları kıyasla\u001b[39;00m\n",
      "File \u001b[1;32mc:\\Users\\yucel\\AppData\\Local\\Programs\\Python\\Python311\\Lib\\site-packages\\pandas\\core\\series.py:1007\u001b[0m, in \u001b[0;36mSeries.__getitem__\u001b[1;34m(self, key)\u001b[0m\n\u001b[0;32m   1004\u001b[0m     \u001b[39mreturn\u001b[39;00m \u001b[39mself\u001b[39m\u001b[39m.\u001b[39m_values[key]\n\u001b[0;32m   1006\u001b[0m \u001b[39melif\u001b[39;00m key_is_scalar:\n\u001b[1;32m-> 1007\u001b[0m     \u001b[39mreturn\u001b[39;00m \u001b[39mself\u001b[39;49m\u001b[39m.\u001b[39;49m_get_value(key)\n\u001b[0;32m   1009\u001b[0m \u001b[39mif\u001b[39;00m is_hashable(key):\n\u001b[0;32m   1010\u001b[0m     \u001b[39m# Otherwise index.get_value will raise InvalidIndexError\u001b[39;00m\n\u001b[0;32m   1011\u001b[0m     \u001b[39mtry\u001b[39;00m:\n\u001b[0;32m   1012\u001b[0m         \u001b[39m# For labels that don't resolve as scalars like tuples and frozensets\u001b[39;00m\n",
      "File \u001b[1;32mc:\\Users\\yucel\\AppData\\Local\\Programs\\Python\\Python311\\Lib\\site-packages\\pandas\\core\\series.py:1116\u001b[0m, in \u001b[0;36mSeries._get_value\u001b[1;34m(self, label, takeable)\u001b[0m\n\u001b[0;32m   1113\u001b[0m     \u001b[39mreturn\u001b[39;00m \u001b[39mself\u001b[39m\u001b[39m.\u001b[39m_values[label]\n\u001b[0;32m   1115\u001b[0m \u001b[39m# Similar to Index.get_value, but we do not fall back to positional\u001b[39;00m\n\u001b[1;32m-> 1116\u001b[0m loc \u001b[39m=\u001b[39m \u001b[39mself\u001b[39;49m\u001b[39m.\u001b[39;49mindex\u001b[39m.\u001b[39;49mget_loc(label)\n\u001b[0;32m   1118\u001b[0m \u001b[39mif\u001b[39;00m is_integer(loc):\n\u001b[0;32m   1119\u001b[0m     \u001b[39mreturn\u001b[39;00m \u001b[39mself\u001b[39m\u001b[39m.\u001b[39m_values[loc]\n",
      "File \u001b[1;32mc:\\Users\\yucel\\AppData\\Local\\Programs\\Python\\Python311\\Lib\\site-packages\\pandas\\core\\indexes\\base.py:3655\u001b[0m, in \u001b[0;36mIndex.get_loc\u001b[1;34m(self, key)\u001b[0m\n\u001b[0;32m   3653\u001b[0m     \u001b[39mreturn\u001b[39;00m \u001b[39mself\u001b[39m\u001b[39m.\u001b[39m_engine\u001b[39m.\u001b[39mget_loc(casted_key)\n\u001b[0;32m   3654\u001b[0m \u001b[39mexcept\u001b[39;00m \u001b[39mKeyError\u001b[39;00m \u001b[39mas\u001b[39;00m err:\n\u001b[1;32m-> 3655\u001b[0m     \u001b[39mraise\u001b[39;00m \u001b[39mKeyError\u001b[39;00m(key) \u001b[39mfrom\u001b[39;00m \u001b[39merr\u001b[39;00m\n\u001b[0;32m   3656\u001b[0m \u001b[39mexcept\u001b[39;00m \u001b[39mTypeError\u001b[39;00m:\n\u001b[0;32m   3657\u001b[0m     \u001b[39m# If we have a listlike key, _check_indexing_error will raise\u001b[39;00m\n\u001b[0;32m   3658\u001b[0m     \u001b[39m#  InvalidIndexError. Otherwise we fall through and re-raise\u001b[39;00m\n\u001b[0;32m   3659\u001b[0m     \u001b[39m#  the TypeError.\u001b[39;00m\n\u001b[0;32m   3660\u001b[0m     \u001b[39mself\u001b[39m\u001b[39m.\u001b[39m_check_indexing_error(key)\n",
      "\u001b[1;31mKeyError\u001b[0m: '2022-ağustos'"
     ]
    }
   ],
   "source": [
    "import pandas as pd\n",
    "\n",
    "# Excel dosyasını oku\n",
    "df = pd.read_excel('matching_products.xlsx')\n",
    "\n",
    "# \"Tarih\" sütunundaki verileri güncelle\n",
    "df['Tarih'] = df['Tarih'].str.replace('2022-ağustos', '2022').str.replace('2023-ağustos', '2023')\n",
    "\n",
    "# İlk indeksteki ürünü seç\n",
    "first_product = df.iloc[0]\n",
    "\n",
    "# İlgili yılların miktarlarını al\n",
    "august_2022_quantity = first_product['2022-ağustos']\n",
    "august_2023_quantity = first_product['2023-ağustos']\n",
    "\n",
    "# Miktarları kıyasla\n",
    "if august_2023_quantity > august_2022_quantity:\n",
    "    print(f\"2023 yılında miktar, 2022 yılına göre artmıştır. Artış miktarı: {august_2023_quantity - august_2022_quantity}\")\n",
    "elif august_2023_quantity < august_2022_quantity:\n",
    "    print(f\"2023 yılında miktar, 2022 yılına göre azalmıştır. Azalış miktarı: {august_2022_quantity - august_2023_quantity}\")\n",
    "else:\n",
    "    print(\"2022 ve 2023 yıllarında miktar değişikliği yoktur.\")\n"
   ]
  },
  {
   "cell_type": "code",
   "execution_count": 45,
   "metadata": {},
   "outputs": [
    {
     "name": "stdout",
     "output_type": "stream",
     "text": [
      "Index(['Kodu', 'Açıklama', 'Renk Adı', 'Beden', 'Miktar', 'Iskonto',\n",
      "       'Net Tutar', 'Brüt Tutar', 'Maliyet', 'Maliyet Tutarı', 'Kar', 'Oran',\n",
      "       'Fis', 'Sınıf', 'Tarih'],\n",
      "      dtype='object')\n"
     ]
    }
   ],
   "source": [
    "import pandas as pd\n",
    "\n",
    "# Excel dosyasını oku\n",
    "df = pd.read_excel('matching_products.xlsx')\n",
    "\n",
    "# Başlıkları görüntüle\n",
    "print(df.columns)\n"
   ]
  },
  {
   "cell_type": "code",
   "execution_count": 46,
   "metadata": {},
   "outputs": [
    {
     "data": {
      "text/html": [
       "<div>\n",
       "<style scoped>\n",
       "    .dataframe tbody tr th:only-of-type {\n",
       "        vertical-align: middle;\n",
       "    }\n",
       "\n",
       "    .dataframe tbody tr th {\n",
       "        vertical-align: top;\n",
       "    }\n",
       "\n",
       "    .dataframe thead th {\n",
       "        text-align: right;\n",
       "    }\n",
       "</style>\n",
       "<table border=\"1\" class=\"dataframe\">\n",
       "  <thead>\n",
       "    <tr style=\"text-align: right;\">\n",
       "      <th></th>\n",
       "      <th>Kodu</th>\n",
       "      <th>Açıklama</th>\n",
       "      <th>Renk Adı</th>\n",
       "      <th>Beden</th>\n",
       "      <th>Miktar</th>\n",
       "      <th>Iskonto</th>\n",
       "      <th>Net Tutar</th>\n",
       "      <th>Brüt Tutar</th>\n",
       "      <th>Maliyet</th>\n",
       "      <th>Maliyet Tutarı</th>\n",
       "      <th>Kar</th>\n",
       "      <th>Oran</th>\n",
       "      <th>Fis</th>\n",
       "      <th>Sınıf</th>\n",
       "      <th>Tarih</th>\n",
       "    </tr>\n",
       "  </thead>\n",
       "  <tbody>\n",
       "    <tr>\n",
       "      <th>0</th>\n",
       "      <td>000039</td>\n",
       "      <td>EL AÇMASI YUFKA</td>\n",
       "      <td>NaN</td>\n",
       "      <td></td>\n",
       "      <td>913.0</td>\n",
       "      <td>0.0</td>\n",
       "      <td>5479.5227</td>\n",
       "      <td>5480.0</td>\n",
       "      <td>9.0</td>\n",
       "      <td>8217.0</td>\n",
       "      <td>-2737.4773</td>\n",
       "      <td>-0.333148</td>\n",
       "      <td>216.0</td>\n",
       "      <td>NaN</td>\n",
       "      <td>2022-ağustos</td>\n",
       "    </tr>\n",
       "    <tr>\n",
       "      <th>1</th>\n",
       "      <td>8699856790030</td>\n",
       "      <td>GEZEN TAVUK YUMURTASI 15 Lİ</td>\n",
       "      <td>NaN</td>\n",
       "      <td></td>\n",
       "      <td>221.0</td>\n",
       "      <td>0.0</td>\n",
       "      <td>8669.4084</td>\n",
       "      <td>8669.0</td>\n",
       "      <td>40.0</td>\n",
       "      <td>8840.0</td>\n",
       "      <td>-170.5916</td>\n",
       "      <td>-0.019298</td>\n",
       "      <td>186.0</td>\n",
       "      <td>NaN</td>\n",
       "      <td>2022-ağustos</td>\n",
       "    </tr>\n",
       "    <tr>\n",
       "      <th>2</th>\n",
       "      <td>000044</td>\n",
       "      <td>GÜNLÜK SÜT 5 LT</td>\n",
       "      <td>NaN</td>\n",
       "      <td></td>\n",
       "      <td>195.0</td>\n",
       "      <td>0.0</td>\n",
       "      <td>12675.9816</td>\n",
       "      <td>12675.0</td>\n",
       "      <td>97.5</td>\n",
       "      <td>19012.5</td>\n",
       "      <td>-6336.5184</td>\n",
       "      <td>-0.333282</td>\n",
       "      <td>190.0</td>\n",
       "      <td>NaN</td>\n",
       "      <td>2022-ağustos</td>\n",
       "    </tr>\n",
       "    <tr>\n",
       "      <th>3</th>\n",
       "      <td>000050</td>\n",
       "      <td>KÖY YUMURTASI</td>\n",
       "      <td>NaN</td>\n",
       "      <td></td>\n",
       "      <td>195.0</td>\n",
       "      <td>0.0</td>\n",
       "      <td>519.4908</td>\n",
       "      <td>519.5</td>\n",
       "      <td>2.9</td>\n",
       "      <td>565.5</td>\n",
       "      <td>-46.0092</td>\n",
       "      <td>-0.08136</td>\n",
       "      <td>30.0</td>\n",
       "      <td>NaN</td>\n",
       "      <td>2022-ağustos</td>\n",
       "    </tr>\n",
       "    <tr>\n",
       "      <th>4</th>\n",
       "      <td>000043</td>\n",
       "      <td>GÜNLÜK SÜT 3 LT</td>\n",
       "      <td>NaN</td>\n",
       "      <td></td>\n",
       "      <td>193.0</td>\n",
       "      <td>0.0</td>\n",
       "      <td>8102.0000</td>\n",
       "      <td>8102.0</td>\n",
       "      <td>65.0</td>\n",
       "      <td>12545.0</td>\n",
       "      <td>-4443.0000</td>\n",
       "      <td>-0.354165</td>\n",
       "      <td>185.0</td>\n",
       "      <td>NaN</td>\n",
       "      <td>2022-ağustos</td>\n",
       "    </tr>\n",
       "  </tbody>\n",
       "</table>\n",
       "</div>"
      ],
      "text/plain": [
       "                   Kodu                     Açıklama  Renk Adı Beden  Miktar  \\\n",
       "0  000039                            EL AÇMASI YUFKA       NaN         913.0   \n",
       "1  8699856790030         GEZEN TAVUK YUMURTASI 15 Lİ       NaN         221.0   \n",
       "2  000044                            GÜNLÜK SÜT 5 LT       NaN         195.0   \n",
       "3  000050                              KÖY YUMURTASI       NaN         195.0   \n",
       "4  000043                            GÜNLÜK SÜT 3 LT       NaN         193.0   \n",
       "\n",
       "   Iskonto   Net Tutar  Brüt Tutar  Maliyet  Maliyet Tutarı        Kar  \\\n",
       "0      0.0   5479.5227      5480.0      9.0          8217.0 -2737.4773   \n",
       "1      0.0   8669.4084      8669.0     40.0          8840.0  -170.5916   \n",
       "2      0.0  12675.9816     12675.0     97.5         19012.5 -6336.5184   \n",
       "3      0.0    519.4908       519.5      2.9           565.5   -46.0092   \n",
       "4      0.0   8102.0000      8102.0     65.0         12545.0 -4443.0000   \n",
       "\n",
       "       Oran    Fis  Sınıf         Tarih  \n",
       "0 -0.333148  216.0    NaN  2022-ağustos  \n",
       "1 -0.019298  186.0    NaN  2022-ağustos  \n",
       "2 -0.333282  190.0    NaN  2022-ağustos  \n",
       "3  -0.08136   30.0    NaN  2022-ağustos  \n",
       "4 -0.354165  185.0    NaN  2022-ağustos  "
      ]
     },
     "execution_count": 46,
     "metadata": {},
     "output_type": "execute_result"
    }
   ],
   "source": [
    "df.head()"
   ]
  },
  {
   "cell_type": "code",
   "execution_count": 47,
   "metadata": {},
   "outputs": [
    {
     "name": "stdout",
     "output_type": "stream",
     "text": [
      "2023 yılında miktar, 2022 yılına göre azalmıştır. Azalış miktarı: 692.0\n"
     ]
    }
   ],
   "source": [
    "import pandas as pd\n",
    "\n",
    "# Excel dosyasını oku\n",
    "df = pd.read_excel('matching_products.xlsx')\n",
    "\n",
    "# \"Tarih\" sütunundaki verileri güncelle\n",
    "df['Tarih'] = df['Tarih'].str.replace('2022-ağustos', '2022').str.replace('2023-ağustos', '2023')\n",
    "\n",
    "# İlgili sütunları seç\n",
    "miktar_2022 = df.loc[0]['Miktar']\n",
    "miktar_2023 = df.loc[1]['Miktar']\n",
    "\n",
    "# Miktarları kıyasla\n",
    "if miktar_2023 > miktar_2022:\n",
    "    print(f\"2023 yılında miktar, 2022 yılına göre artmıştır. Artış miktarı: {miktar_2023 - miktar_2022}\")\n",
    "elif miktar_2023 < miktar_2022:\n",
    "    print(f\"2023 yılında miktar, 2022 yılına göre azalmıştır. Azalış miktarı: {miktar_2022 - miktar_2023}\")\n",
    "else:\n",
    "    print(\"2022 ve 2023 yıllarında miktar değişikliği yoktur.\")\n"
   ]
  },
  {
   "cell_type": "code",
   "execution_count": 48,
   "metadata": {},
   "outputs": [
    {
     "name": "stdout",
     "output_type": "stream",
     "text": [
      "2022 yılında EL AÇMASI YUFKA ürününün miktarı: 913.0\n",
      "2023 yılında GEZEN TAVUK YUMURTASI 15 Lİ ürününün miktarı: 221.0\n",
      "2023 yılında miktar, 2022 yılına göre azalmıştır. Azalış miktarı: 692.0\n"
     ]
    }
   ],
   "source": [
    "import pandas as pd\n",
    "\n",
    "# Excel dosyasını oku\n",
    "df = pd.read_excel('matching_products.xlsx')\n",
    "\n",
    "# \"Tarih\" sütunundaki verileri güncelle\n",
    "df['Tarih'] = df['Tarih'].str.replace('2022-ağustos', '2022').str.replace('2023-ağustos', '2023')\n",
    "\n",
    "# İlgili sütunları seç\n",
    "indeks_2022 = 0\n",
    "indeks_2023 = 1\n",
    "\n",
    "# 2022 ve 2023 yıllarındaki miktarları ve açıklamaları al\n",
    "miktar_2022 = df.loc[indeks_2022]['Miktar']\n",
    "miktar_2023 = df.loc[indeks_2023]['Miktar']\n",
    "aciklama_2022 = df.loc[indeks_2022]['Açıklama']\n",
    "aciklama_2023 = df.loc[indeks_2023]['Açıklama']\n",
    "\n",
    "# Miktarları ve açıklamaları göster\n",
    "print(f\"2022 yılında {aciklama_2022} ürününün miktarı: {miktar_2022}\")\n",
    "print(f\"2023 yılında {aciklama_2023} ürününün miktarı: {miktar_2023}\")\n",
    "\n",
    "# Miktarları kıyasla\n",
    "if miktar_2023 > miktar_2022:\n",
    "    print(f\"2023 yılında miktar, 2022 yılına göre artmıştır. Artış miktarı: {miktar_2023 - miktar_2022}\")\n",
    "elif miktar_2023 < miktar_2022:\n",
    "    print(f\"2023 yılında miktar, 2022 yılına göre azalmıştır. Azalış miktarı: {miktar_2022 - miktar_2023}\")\n",
    "else:\n",
    "    print(\"2022 ve 2023 yıllarında miktar değişikliği yoktur.\")\n"
   ]
  },
  {
   "cell_type": "code",
   "execution_count": 49,
   "metadata": {},
   "outputs": [
    {
     "name": "stdout",
     "output_type": "stream",
     "text": [
      "                     Kodu                     Açıklama   Miktar Tarih\n",
      "0    000039                            EL AÇMASI YUFKA  913.000  2022\n",
      "1    8699856790030         GEZEN TAVUK YUMURTASI 15 Lİ  221.000  2022\n",
      "2    000044                            GÜNLÜK SÜT 5 LT  195.000  2022\n",
      "3    000050                              KÖY YUMURTASI  195.000  2022\n",
      "4    000043                            GÜNLÜK SÜT 3 LT  193.000  2022\n",
      "..                    ...                          ...      ...   ...\n",
      "229  01127                                 İSLİ PEYNİR    0.455  2023\n",
      "230  01082                            GÜN KURUSU PAKET    0.415  2023\n",
      "231  01124                       DOĞAL AYDIN DAĞ İNCİR    0.160  2023\n",
      "232  01172                                KABUK TARÇIN    0.095  2023\n",
      "233                   NaN                          NaN      NaN  2023\n",
      "\n",
      "[234 rows x 4 columns]\n"
     ]
    }
   ],
   "source": [
    "import pandas as pd\n",
    "\n",
    "# Excel dosyasını oku\n",
    "df = pd.read_excel('matching_products.xlsx')\n",
    "\n",
    "# \"Tarih\" sütunundaki verileri güncelle\n",
    "df['Tarih'] = df['Tarih'].str.replace('2022-ağustos', '2022').str.replace('2023-ağustos', '2023')\n",
    "\n",
    "# \"Kodu\" sütunu aynı olan ürünleri eşleşen olarak kabul edelim\n",
    "eşleşen_ürünler = df[df.duplicated(subset='Kodu', keep=False)]\n",
    "\n",
    "# Eşleşen ürünleri liste halinde yazdır\n",
    "print(eşleşen_ürünler[['Kodu', 'Açıklama', 'Miktar', 'Tarih']])\n"
   ]
  },
  {
   "cell_type": "code",
   "execution_count": 50,
   "metadata": {},
   "outputs": [
    {
     "name": "stdout",
     "output_type": "stream",
     "text": [
      "2023 yılında miktar, 2022 yılına göre azalmıştır. Azalış miktarı: 692.0\n"
     ]
    }
   ],
   "source": [
    "import pandas as pd\n",
    "\n",
    "# Excel dosyasını oku\n",
    "df = pd.read_excel('matching_products.xlsx')\n",
    "\n",
    "# \"Tarih\" sütunundaki verileri güncelle\n",
    "df['Tarih'] = df['Tarih'].str.replace('2022-ağustos', '2022').str.replace('2023-ağustos', '2023')\n",
    "\n",
    "# \"Kodu\" sütunu aynı olan ürünlerden sadece bir tanesini seç\n",
    "tek_tane_urun = df.drop_duplicates(subset='Kodu')\n",
    "\n",
    "# 2022-ağustos ve 2023-ağustos miktarlarını al\n",
    "miktar_2022 = tek_tane_urun.loc[0]['Miktar']\n",
    "miktar_2023 = tek_tane_urun.loc[1]['Miktar']\n",
    "\n",
    "# Miktarları kıyasla\n",
    "if miktar_2023 > miktar_2022:\n",
    "    print(f\"2023 yılında miktar, 2022 yılına göre artmıştır. Artış miktarı: {miktar_2023 - miktar_2022}\")\n",
    "elif miktar_2023 < miktar_2022:\n",
    "    print(f\"2023 yılında miktar, 2022 yılına göre azalmıştır. Azalış miktarı: {miktar_2022 - miktar_2023}\")\n",
    "else:\n",
    "    print(\"2022 ve 2023 yıllarında miktar değişikliği yoktur.\")\n"
   ]
  },
  {
   "cell_type": "code",
   "execution_count": 51,
   "metadata": {},
   "outputs": [
    {
     "name": "stdout",
     "output_type": "stream",
     "text": [
      "Ürün Açıklama 2022 Miktar 2023 Miktar\n",
      "EL AÇMASI YUFKA 913.0 221.0\n"
     ]
    }
   ],
   "source": [
    "import pandas as pd\n",
    "\n",
    "# Excel dosyasını oku\n",
    "df = pd.read_excel('matching_products.xlsx')\n",
    "\n",
    "# \"Tarih\" sütunundaki verileri güncelle\n",
    "df['Tarih'] = df['Tarih'].str.replace('2022-ağustos', '2022').str.replace('2023-ağustos', '2023')\n",
    "\n",
    "# \"Kodu\" sütunu aynı olan ürünlerden sadece bir tanesini seç\n",
    "tek_tane_urun = df.drop_duplicates(subset='Kodu')\n",
    "\n",
    "# 2022-ağustos ve 2023-ağustos miktarlarını al\n",
    "miktar_2022 = tek_tane_urun.loc[0]['Miktar']\n",
    "miktar_2023 = tek_tane_urun.loc[1]['Miktar']\n",
    "\n",
    "# Açıklamaları al\n",
    "aciklama_2022 = tek_tane_urun.loc[0]['Açıklama']\n",
    "aciklama_2023 = tek_tane_urun.loc[1]['Açıklama']\n",
    "\n",
    "# Miktarları ve açıklamaları göster\n",
    "print(f\"Ürün Açıklama 2022 Miktar 2023 Miktar\")\n",
    "print(f\"{aciklama_2022} {miktar_2022} {miktar_2023}\")\n"
   ]
  },
  {
   "cell_type": "code",
   "execution_count": 54,
   "metadata": {},
   "outputs": [
    {
     "data": {
      "image/png": "[encoded data removed]",
      "text/plain": [
       "<Figure size 640x480 with 1 Axes>"
      ]
     },
     "metadata": {},
     "output_type": "display_data"
    }
   ],
   "source": [
    "import pandas as pd\n",
    "import matplotlib.pyplot as plt\n",
    "\n",
    "# Excel dosyasını oku\n",
    "df = pd.read_excel('matching_products.xlsx')\n",
    "\n",
    "# \"Tarih\" sütunundaki verileri güncelle\n",
    "df['Tarih'] = df['Tarih'].str.replace('2022-ağustos', '2022').str.replace('2023-ağustos', '2023')\n",
    "\n",
    "# \"Kodu\" sütunu aynı olan ürünlerden sadece bir tanesini seç\n",
    "tek_tane_urun = df.drop_duplicates(subset='Kodu')\n",
    "\n",
    "# 2022-ağustos ve 2023-ağustos miktarlarını al\n",
    "miktar_2022 = tek_tane_urun.loc[0]['Miktar']\n",
    "miktar_2023 = tek_tane_urun.loc[1]['Miktar']\n",
    "\n",
    "# Açıklamaları al\n",
    "aciklama_2022 = tek_tane_urun.loc[0]['Açıklama']\n",
    "aciklama_2023 = tek_tane_urun.loc[1]['Açıklama']\n",
    "\n",
    "# Bar grafik oluştur\n",
    "years = ['2022', '2023']\n",
    "quantities = [miktar_2022, miktar_2023]\n",
    "\n",
    "plt.bar(years, quantities)\n",
    "plt.xlabel('Yıl')\n",
    "plt.ylabel('Miktar')\n",
    "plt.title(f'{aciklama_2022} ve {aciklama_2023} Ürün Miktar Karşılaştırması')\n",
    "plt.show()\n"
   ]
  },
  {
   "cell_type": "code",
   "execution_count": 55,
   "metadata": {},
   "outputs": [
    {
     "name": "stdout",
     "output_type": "stream",
     "text": [
      "Kodu    Açıklama    2022    2023\n",
      "000039                  EL AÇMASI YUFKA    913.0    221.0\n"
     ]
    }
   ],
   "source": [
    "import pandas as pd\n",
    "\n",
    "# Excel dosyasını oku\n",
    "df = pd.read_excel('matching_products.xlsx')\n",
    "\n",
    "# \"Tarih\" sütunundaki verileri güncelle\n",
    "df['Tarih'] = df['Tarih'].str.replace('2022-ağustos', '2022').str.replace('2023-ağustos', '2023')\n",
    "\n",
    "# \"Kodu\" sütunu aynı olan ürünlerden sadece bir tanesini seç\n",
    "tek_tane_urun = df.drop_duplicates(subset='Kodu')\n",
    "\n",
    "# 2022-ağustos ve 2023-ağustos miktarlarını al\n",
    "miktar_2022 = tek_tane_urun.loc[0]['Miktar']\n",
    "miktar_2023 = tek_tane_urun.loc[1]['Miktar']\n",
    "\n",
    "# Açıklamaları al\n",
    "aciklama_2022 = tek_tane_urun.loc[0]['Açıklama']\n",
    "aciklama_2023 = tek_tane_urun.loc[1]['Açıklama']\n",
    "\n",
    "# Tabloyu yazdır\n",
    "print(f\"Kodu    Açıklama    2022    2023\")\n",
    "print(f\"{tek_tane_urun['Kodu'].values[0]}    {aciklama_2022}    {miktar_2022}    {miktar_2023}\")\n"
   ]
  },
  {
   "cell_type": "code",
   "execution_count": 56,
   "metadata": {},
   "outputs": [
    {
     "name": "stdout",
     "output_type": "stream",
     "text": [
      "Kodu\tAçıklama\t2022\t2023\n",
      "000039              \tEL AÇMASI YUFKA\t913.0\t1141.0\n",
      "8699856790030       \tGEZEN TAVUK YUMURTASI 15 Lİ\t221.0\t337.0\n",
      "000044              \tGÜNLÜK SÜT 5 LT\t195.0\t268.0\n",
      "000050              \tKÖY YUMURTASI\t195.0\t177.0\n",
      "000043              \tGÜNLÜK SÜT 3 LT\t193.0\t289.0\n",
      "01198               \tSERT EZİNE PEYNİRİ\t161.365\t141.77\n",
      "000038              \tMANDA SÜTÜ\t112.0\t138.0\n",
      "000085              \tEV YOĞURTU\t91.0\t130.0\n",
      "000040              \tKÖY EKMEK\t74.0\t66.0\n",
      "000114              \tJERSEY SÜTÜ 3 LT.\t64.0\t118.0\n",
      "01109               \tMİHALİÇ LOR PEYNİRİ\t45.96\t57.125\n",
      "01048               \tHATAY TEREYAĞI\t30.26\t21.56\n",
      "000042              \tKEÇİ SÜTÜ\t29.0\t40.0\n",
      "01147               \tSUCUK ÖZATEŞ\t21.24\t22.645\n",
      "01122               \tEV MANTISI\t21.21\t10.775\n",
      "01105               \tAÇIK DOMATES SALÇASI \t20.345\t27.805\n",
      "01029               \tTAZE BLOK KAŞAR PEYNİRİ ERGE\t20.18\t23.08\n",
      "8684076787809       \tT. YAĞLI MANDA YOĞURDU 750 GR\t19.0\t13.0\n",
      "8697456950144       \tÇAMLICA DOĞAL YOĞURT 900 GR.\t19.0\t15.0\n",
      "8681330349056       \tKEMAL PAŞA PEYNİR TATLISI\t19.0\t2.0\n",
      "01028               \t ESKİ KAŞAR PEYNİRİ KARS\t18.63\t19.905\n",
      "01123               \tİNCİANA KIYMALI MANTI\t17.235\t21.085\n",
      "8690585810068       \tTADIBU FINDIK EZMESİ 330 GR.\t15.0\t12.0\n",
      "000082              \tMEŞHUR GÜMÜLCİNE KAHVE\t14.0\t8.0\n",
      "01084               \tGEMLİK SİYAH ZEYTİN 200-230\t13.545\t6.43\n",
      "01158               \tYUMUŞAK BEYAZ PEYNİR MEZRE\t13.185\t24.585\n",
      "01059               \tAÇIK BİBER SALÇASI \t13.075\t30.85\n",
      "8697566900015       \tSARRAF TÜRK KAHVESİ\t13.0\t9.0\n",
      "muhtelif gıda       \tMUHTELİF\t12.0\t24.0\n",
      "01194               \tKÖY PEYNİRİ \t10.85\t11.24\n",
      "8681910228511       \tBY FIRIN LEBLEBİ KURABİYESİ\t10.0\t6.0\n",
      "8697418081558       \tMERİÇ HELLİM PEYNİRİ 225 GR\t10.0\t22.0\n",
      "01143               \tERZİNCAN TULUMU \t9.78\t11.45\n",
      "01163               \tYAYIK TEREYAĞI\t9.245\t4.295\n",
      "8698683400624       \tRIFAT MİNARE TATLI SOS 580CC\t9.0\t3.0\n",
      "01043               \tHATAY ÖRGÜ PEYNİRİ\t8.81\t9.855\n",
      "01137               \tİZMİR TULUMU İNEK \t8.095\t12.555\n",
      "01164               \tÇEÇİL PEYNİRİ\t8.025\t11.585\n",
      "8698683400358       \tRIFAT MİNARE KAHVALTILIK ACI SOS 300 ML\t8.0\t5.0\n",
      "8690767670053       \tSÜTAŞ YARIM YAĞLI 1 LT\t8.0\t10.0\n",
      "01034               \tKARAKOVAN PETEK BAL\t7.825\t9.92\n",
      "01030               \tKARS GÖBEK KAŞAR\t7.475\t3.5\n",
      "8680445891085       \tTRABZON TEREYAĞI 500 GR.\t7.0\t2.0\n",
      "01002               \tKEÇİ İNEK KOYUN KARIŞIK EZİNE PEYNİRİ\t6.955\t6.575\n",
      "01125               \tKAYMAK KÜÇÜKÇİFTLİK\t6.68\t3.43\n",
      "01154               \tANTRİKOT PASTIRMA \t6.14\t2.59\n",
      "8699250040182       \tTOROS DANA SOSİS\t6.0\t7.0\n",
      "8690738001053       \tECE BİBERLİ YEŞİL ZEYTİN 720 GR\t6.0\t6.0\n",
      "01050               \tTRABZON TEREYAĞI AÇIK \t5.55\t16.16\n",
      "01213               \tMANDA KAYMAĞI \t5.225\t2.94\n",
      "01036               \tGEMLİK SİYAH ZEYTİN 260-290\t5.09\t11.1\n",
      "8680445890095       \tKOLOT PEYNİRİ BEŞİKDÜZÜ\t5.0\t3.0\n",
      "8697566900671       \tSARRAF GÜMİLCİNE KAHVESİ\t5.0\t1.0\n",
      "01103               \t TAZE MİHALİÇ  PEYNİRİ\t4.935\t8.53\n",
      "01092               \tKURU SELE ZEYTİN\t4.405\t4.015\n",
      "01235               \tESKİ MİHALİÇ PEYNİRİ\t4.38\t9.25\n",
      "01118               \tERZİNCAN REFAHİYE PETEK BAL\t4.33\t0.94\n",
      "01072               \tMISIR UNU ARAKLI\t4.295\t3.765\n",
      "00002               \t MACAR SALAM\t4.065\t3.61\n",
      "000032              \tEV YAPIMI NAR EKŞİSİ\t4.0\t4.0\n",
      "000026              \tAYDIN SOĞUK SIKIM ZEYTİNYAĞI 1 LT.\t4.0\t3.0\n",
      "000095              \tEv Yapımı Elma Sirkesi\t4.0\t8.0\n",
      "8698683400631       \tRIFAT MİNARE LÜTENISTSA ACI SOS  580 CC\t4.0\t5.0\n",
      "8692311004659       \t KAVAKLIDERE 1000 ML  ŞALGAM SUYU CAM (ACILI)  \t4.0\t1.0\n",
      "8697420720124       \tDEMET PARMAK SOSİS  200 GR\t4.0\t5.0\n",
      "01001               \tHATAY DİL PEYNİR VAKUMLU\t3.74\t2.985\n",
      "01086               \tYEŞİL ÇİZİK ZEYTİN\t3.73\t2.52\n",
      "01120               \tAÇIK TAHİN\t3.565\t3.97\n",
      "01236               \tFISTIK EZMESİ PARÇAÇIKLI\t3.385\t2.07\n",
      "01076               \tSADE HELVA TEPSI ABD. TAT. 5 KG \t3.285\t4.84\n",
      "01159               \tBİNGÖL SÜZME BAL AÇIK\t3.095\t1.495\n",
      "8690585661103       \tCEZERYE ABD. TATLICISI 200 GR\t3.0\t1.0\n",
      "8697412772032       \tTAHONEZ KREM TEAHİN HELVA\t3.0\t1.0\n",
      "8663675418451       \tREÇEL DİYARI ÇİLEK REÇELİ 380 GR\t3.0\t3.0\n",
      "8692311003225       \tKAVAKLIDERE 500 ML. ELMA SİRKESİ CAM\t3.0\t3.0\n",
      "000030              \tKURU PATLICAN BAĞI\t3.0\t2.0\n",
      "000031              \tKURU BIBER BAĞI\t3.0\t1.0\n",
      "8698605690027       \tTOKAT YAPRAĞI 1 KG.\t3.0\t6.0\n",
      "01104               \tAÇIK BİBER SALÇASI ACILI\t2.87\t5.17\n",
      "01071               \tSÜZME YOĞURT\t2.87\t2.19\n",
      "00003               \tANTEP PEYNİRİ\t2.5\t0.775\n",
      "01124               \tDOĞAL AYDIN DAĞ İNCİR\t2.315\t0.16\n",
      "01110               \tSEPET PEYNİRİ \t2.2\t1.365\n",
      "01196               \tCEVİZ İÇİ\t2.1\t1.58\n",
      "8681128044019       \tEV ERİŞTESİ 500 GR TADEM\t2.0\t1.0\n",
      "S.00002             \tSosero Ege Zeytin Salatası\t2.0\t1.0\n",
      "8698683400341       \tRIFAT MİNARE KAHVALTILIK TATLI SOS 300 ML\t2.0\t8.0\n",
      "8698683400921       \tRIFAT MİNARE KURU ÜZÜM ŞIRASI 1000 ML\t2.0\t2.0\n",
      "8691234657836       \tÇam Kozalağı Macunu 380 Gr.\t2.0\t6.0\n",
      "8681414052162       \tREÇEL DİYARI VİŞNE RECELİ 400 Gr\t2.0\t1.0\n",
      "8698605653992       \tUĞURLU ACUKA 200 GR\t2.0\t7.0\n",
      "8699197731877       \tANCORA KARADUT SUYU 1 LT\t2.0\t6.0\n",
      "01073               \tVAN OTLU PEYNİR \t1.805\t1.66\n",
      "01081               \tKAYISI KURUSU PAKET\t1.62\t0.495\n",
      "01148               \tKEÇİ PEYNİRİ\t1.375\t4.495\n",
      "01153               \tKAVURMA DEMET\t1.21\t2.23\n",
      "000070              \tORGANİK SÜZME ÇİÇEK BALI 850 GR\t1.0\t7.0\n",
      "8681234047607       \tİlhan Sarı Organik Zeytin Yap. Cay\t1.0\t2.0\n",
      "8692311101037       \t KAVAKLIDERE 720 CC TÜRLÜ TURŞU - 400 GR\t1.0\t1.0\n",
      "8698655720507       \tÖNCÜLLER KUŞBURNU MARMELATI 630 GR\t1.0\t1.0\n",
      "8698655720392       \tÖNCÜLLER KUŞBURNU MARMELATI 430 GR\t1.0\t2.0\n",
      "86090585562011      \tKEÇİBOYNUZU ÖZÜ 640 GR ABD.TAT.\t1.0\t1.0\n",
      "8692311004673       \t KAVAKLIDERE 1000 ML  ŞALGAM SUYU  CAM\t1.0\t1.0\n",
      "8681128044026       \tEV TARHANASI PAKET TADEM\t1.0\t7.0\n",
      "8690585330139       \tHELVA KAKOLU AB.TAT.300 GR.\t1.0\t1.0\n",
      "01047               \tHATAY KÜNEFE PEYNİRİ\t1.0\t1.025\n",
      "8697566900039       \tSARRAF DİBEK KAHVESİ\t1.0\t2.0\n",
      "8681158290455       \tEMU ZENCEFIL\t1.0\t2.0\n",
      "8699197731839       \tANCORA NAR SUYU 1 LT\t1.0\t3.0\n",
      "8697405863204       \tŞEKER İLAVESİZ ÇİLEK REÇELİ 370 GR. ANTALYA REÇ.,\t1.0\t1.0\n",
      "8697405863303       \tŞEKER İLAVESİZ KIRMIZI MEYVE REÇELİ 370 GR. ANTALYA REÇ.\t1.0\t1.0\n",
      "8699197731952       \tANCORA SIKMA VİŞNE SUYU 1 LT\t1.0\t5.0\n",
      "01127               \tİSLİ PEYNİR\t0.815\t0.455\n",
      "01082               \tGÜN KURUSU PAKET\t0.765\t0.415\n",
      "01195               \tDÖKME KABUKLU CEVİZ\t0.66\t11.58\n",
      "01172               \tKABUK TARÇIN\t0.195\t0.095\n"
     ]
    },
    {
     "ename": "IndexError",
     "evalue": "index 0 is out of bounds for axis 0 with size 0",
     "output_type": "error",
     "traceback": [
      "\u001b[1;31m---------------------------------------------------------------------------\u001b[0m",
      "\u001b[1;31mIndexError\u001b[0m                                Traceback (most recent call last)",
      "Cell \u001b[1;32mIn[56], line 17\u001b[0m\n\u001b[0;32m     15\u001b[0m kod \u001b[39m=\u001b[39m row[\u001b[39m'\u001b[39m\u001b[39mKodu\u001b[39m\u001b[39m'\u001b[39m]\n\u001b[0;32m     16\u001b[0m aciklama \u001b[39m=\u001b[39m row[\u001b[39m'\u001b[39m\u001b[39mAçıklama\u001b[39m\u001b[39m'\u001b[39m]\n\u001b[1;32m---> 17\u001b[0m miktar_2022 \u001b[39m=\u001b[39m df[(df[\u001b[39m'\u001b[39;49m\u001b[39mKodu\u001b[39;49m\u001b[39m'\u001b[39;49m] \u001b[39m==\u001b[39;49m kod) \u001b[39m&\u001b[39;49m (df[\u001b[39m'\u001b[39;49m\u001b[39mTarih\u001b[39;49m\u001b[39m'\u001b[39;49m] \u001b[39m==\u001b[39;49m \u001b[39m'\u001b[39;49m\u001b[39m2022\u001b[39;49m\u001b[39m'\u001b[39;49m)][\u001b[39m'\u001b[39;49m\u001b[39mMiktar\u001b[39;49m\u001b[39m'\u001b[39;49m]\u001b[39m.\u001b[39;49mvalues[\u001b[39m0\u001b[39;49m]\n\u001b[0;32m     18\u001b[0m miktar_2023 \u001b[39m=\u001b[39m df[(df[\u001b[39m'\u001b[39m\u001b[39mKodu\u001b[39m\u001b[39m'\u001b[39m] \u001b[39m==\u001b[39m kod) \u001b[39m&\u001b[39m (df[\u001b[39m'\u001b[39m\u001b[39mTarih\u001b[39m\u001b[39m'\u001b[39m] \u001b[39m==\u001b[39m \u001b[39m'\u001b[39m\u001b[39m2023\u001b[39m\u001b[39m'\u001b[39m)][\u001b[39m'\u001b[39m\u001b[39mMiktar\u001b[39m\u001b[39m'\u001b[39m]\u001b[39m.\u001b[39mvalues[\u001b[39m0\u001b[39m]\n\u001b[0;32m     19\u001b[0m \u001b[39mprint\u001b[39m(\u001b[39mf\u001b[39m\u001b[39m\"\u001b[39m\u001b[39m{\u001b[39;00mkod\u001b[39m}\u001b[39;00m\u001b[39m\\t\u001b[39;00m\u001b[39m{\u001b[39;00maciklama\u001b[39m}\u001b[39;00m\u001b[39m\\t\u001b[39;00m\u001b[39m{\u001b[39;00mmiktar_2022\u001b[39m}\u001b[39;00m\u001b[39m\\t\u001b[39;00m\u001b[39m{\u001b[39;00mmiktar_2023\u001b[39m}\u001b[39;00m\u001b[39m\"\u001b[39m)\n",
      "\u001b[1;31mIndexError\u001b[0m: index 0 is out of bounds for axis 0 with size 0"
     ]
    }
   ],
   "source": [
    "import pandas as pd\n",
    "\n",
    "# Excel dosyasını oku\n",
    "df = pd.read_excel('matching_products.xlsx')\n",
    "\n",
    "# \"Tarih\" sütunundaki verileri güncelle\n",
    "df['Tarih'] = df['Tarih'].str.replace('2022-ağustos', '2022').str.replace('2023-ağustos', '2023')\n",
    "\n",
    "# \"Kodu\" sütunu aynı olan ürünlerden sadece bir tanesini seç\n",
    "tek_tane_urun = df.drop_duplicates(subset='Kodu')\n",
    "\n",
    "# Eşleşen ürünleri yazdır\n",
    "print(f\"Kodu\\tAçıklama\\t2022\\t2023\")\n",
    "for index, row in tek_tane_urun.iterrows():\n",
    "    kod = row['Kodu']\n",
    "    aciklama = row['Açıklama']\n",
    "    miktar_2022 = df[(df['Kodu'] == kod) & (df['Tarih'] == '2022')]['Miktar'].values[0]\n",
    "    miktar_2023 = df[(df['Kodu'] == kod) & (df['Tarih'] == '2023')]['Miktar'].values[0]\n",
    "    print(f\"{kod}\\t{aciklama}\\t{miktar_2022}\\t{miktar_2023}\")\n"
   ]
  },
  {
   "cell_type": "code",
   "execution_count": 57,
   "metadata": {},
   "outputs": [
    {
     "ename": "IndexError",
     "evalue": "index 0 is out of bounds for axis 0 with size 0",
     "output_type": "error",
     "traceback": [
      "\u001b[1;31m---------------------------------------------------------------------------\u001b[0m",
      "\u001b[1;31mIndexError\u001b[0m                                Traceback (most recent call last)",
      "Cell \u001b[1;32mIn[57], line 19\u001b[0m\n\u001b[0;32m     17\u001b[0m kod \u001b[39m=\u001b[39m row[\u001b[39m'\u001b[39m\u001b[39mKodu\u001b[39m\u001b[39m'\u001b[39m]\n\u001b[0;32m     18\u001b[0m aciklama \u001b[39m=\u001b[39m row[\u001b[39m'\u001b[39m\u001b[39mAçıklama\u001b[39m\u001b[39m'\u001b[39m]\n\u001b[1;32m---> 19\u001b[0m miktar_2022 \u001b[39m=\u001b[39m df[(df[\u001b[39m'\u001b[39;49m\u001b[39mKodu\u001b[39;49m\u001b[39m'\u001b[39;49m] \u001b[39m==\u001b[39;49m kod) \u001b[39m&\u001b[39;49m (df[\u001b[39m'\u001b[39;49m\u001b[39mTarih\u001b[39;49m\u001b[39m'\u001b[39;49m] \u001b[39m==\u001b[39;49m \u001b[39m'\u001b[39;49m\u001b[39m2022\u001b[39;49m\u001b[39m'\u001b[39;49m)][\u001b[39m'\u001b[39;49m\u001b[39mMiktar\u001b[39;49m\u001b[39m'\u001b[39;49m]\u001b[39m.\u001b[39;49mvalues[\u001b[39m0\u001b[39;49m]\n\u001b[0;32m     20\u001b[0m miktar_2023 \u001b[39m=\u001b[39m df[(df[\u001b[39m'\u001b[39m\u001b[39mKodu\u001b[39m\u001b[39m'\u001b[39m] \u001b[39m==\u001b[39m kod) \u001b[39m&\u001b[39m (df[\u001b[39m'\u001b[39m\u001b[39mTarih\u001b[39m\u001b[39m'\u001b[39m] \u001b[39m==\u001b[39m \u001b[39m'\u001b[39m\u001b[39m2023\u001b[39m\u001b[39m'\u001b[39m)][\u001b[39m'\u001b[39m\u001b[39mMiktar\u001b[39m\u001b[39m'\u001b[39m]\u001b[39m.\u001b[39mvalues[\u001b[39m0\u001b[39m]\n\u001b[0;32m     21\u001b[0m eşleşen_ürünler\u001b[39m.\u001b[39mappend([kod, aciklama, miktar_2022, miktar_2023])\n",
      "\u001b[1;31mIndexError\u001b[0m: index 0 is out of bounds for axis 0 with size 0"
     ]
    }
   ],
   "source": [
    "import pandas as pd\n",
    "\n",
    "# Eşleşen ürünleri oluştur\n",
    "eşleşen_ürünler = []\n",
    "\n",
    "# Excel dosyasını oku\n",
    "df = pd.read_excel('matching_products.xlsx')\n",
    "\n",
    "# \"Tarih\" sütunundaki verileri güncelle\n",
    "df['Tarih'] = df['Tarih'].str.replace('2022-ağustos', '2022').str.replace('2023-ağustos', '2023')\n",
    "\n",
    "# \"Kodu\" sütunu aynı olan ürünlerden sadece bir tanesini seç\n",
    "tek_tane_urun = df.drop_duplicates(subset='Kodu')\n",
    "\n",
    "# Eşleşen ürünleri oluştur\n",
    "for index, row in tek_tane_urun.iterrows():\n",
    "    kod = row['Kodu']\n",
    "    aciklama = row['Açıklama']\n",
    "    miktar_2022 = df[(df['Kodu'] == kod) & (df['Tarih'] == '2022')]['Miktar'].values[0]\n",
    "    miktar_2023 = df[(df['Kodu'] == kod) & (df['Tarih'] == '2023')]['Miktar'].values[0]\n",
    "    eşleşen_ürünler.append([kod, aciklama, miktar_2022, miktar_2023])\n",
    "\n",
    "# Eşleşen ürünleri bir DataFrame'e dönüştür\n",
    "eşleşen_ürünler_df = pd.DataFrame(eşleşen_ürünler, columns=['Kodu', 'Açıklama', '2022', '2023'])\n",
    "\n",
    "# Yeni Excel dosyasına kaydet\n",
    "eşleşen_ürünler_df.to_excel('eşleşen_ürünler.xlsx', index=False)\n"
   ]
  },
  {
   "cell_type": "code",
   "execution_count": 58,
   "metadata": {},
   "outputs": [],
   "source": [
    "import pandas as pd\n",
    "\n",
    "# Eşleşen ürünleri oluştur\n",
    "eşleşen_ürünler = []\n",
    "\n",
    "# Excel dosyasını oku\n",
    "df = pd.read_excel('matching_products.xlsx')\n",
    "\n",
    "# \"Tarih\" sütunundaki verileri güncelle\n",
    "df['Tarih'] = df['Tarih'].str.replace('2022-ağustos', '2022').str.replace('2023-ağustos', '2023')\n",
    "\n",
    "# \"Kodu\" sütunu aynı olan ürünlerden sadece bir tanesini seç\n",
    "tek_tane_urun = df.drop_duplicates(subset='Kodu')\n",
    "\n",
    "# Eşleşen ürünleri oluştur\n",
    "for index, row in tek_tane_urun.iterrows():\n",
    "    kod = row['Kodu']\n",
    "    aciklama = row['Açıklama']\n",
    "    miktar_2022 = df[(df['Kodu'] == kod) & (df['Tarih'] == '2022')]['Miktar'].values\n",
    "    miktar_2023 = df[(df['Kodu'] == kod) & (df['Tarih'] == '2023')]['Miktar'].values\n",
    "\n",
    "    # Eğer belirli bir kombinasyonda veri yoksa, varsayılan olarak 0 olarak kabul et\n",
    "    miktar_2022 = miktar_2022[0] if len(miktar_2022) > 0 else 0\n",
    "    miktar_2023 = miktar_2023[0] if len(miktar_2023) > 0 else 0\n",
    "\n",
    "    eşleşen_ürünler.append([kod, aciklama, miktar_2022, miktar_2023])\n",
    "\n",
    "# Eşleşen ürünleri bir DataFrame'e dönüştür\n",
    "eşleşen_ürünler_df = pd.DataFrame(eşleşen_ürünler, columns=['Kodu', 'Açıklama', '2022', '2023'])\n",
    "\n",
    "# Yeni Excel dosyasına kaydet\n",
    "eşleşen_ürünler_df.to_excel('eşleşen_ürünler.xlsx', index=False)\n"
   ]
  },
  {
   "cell_type": "code",
   "execution_count": 60,
   "metadata": {},
   "outputs": [
    {
     "data": {
      "text/html": [
       "<div>\n",
       "<style scoped>\n",
       "    .dataframe tbody tr th:only-of-type {\n",
       "        vertical-align: middle;\n",
       "    }\n",
       "\n",
       "    .dataframe tbody tr th {\n",
       "        vertical-align: top;\n",
       "    }\n",
       "\n",
       "    .dataframe thead th {\n",
       "        text-align: right;\n",
       "    }\n",
       "</style>\n",
       "<table border=\"1\" class=\"dataframe\">\n",
       "  <thead>\n",
       "    <tr style=\"text-align: right;\">\n",
       "      <th></th>\n",
       "      <th>Kodu</th>\n",
       "      <th>Açıklama</th>\n",
       "      <th>2022</th>\n",
       "      <th>2023</th>\n",
       "    </tr>\n",
       "  </thead>\n",
       "  <tbody>\n",
       "    <tr>\n",
       "      <th>0</th>\n",
       "      <td>000039</td>\n",
       "      <td>EL AÇMASI YUFKA</td>\n",
       "      <td>913.0</td>\n",
       "      <td>1141.0</td>\n",
       "    </tr>\n",
       "    <tr>\n",
       "      <th>1</th>\n",
       "      <td>8699856790030</td>\n",
       "      <td>GEZEN TAVUK YUMURTASI 15 Lİ</td>\n",
       "      <td>221.0</td>\n",
       "      <td>337.0</td>\n",
       "    </tr>\n",
       "    <tr>\n",
       "      <th>2</th>\n",
       "      <td>000044</td>\n",
       "      <td>GÜNLÜK SÜT 5 LT</td>\n",
       "      <td>195.0</td>\n",
       "      <td>268.0</td>\n",
       "    </tr>\n",
       "    <tr>\n",
       "      <th>3</th>\n",
       "      <td>000050</td>\n",
       "      <td>KÖY YUMURTASI</td>\n",
       "      <td>195.0</td>\n",
       "      <td>177.0</td>\n",
       "    </tr>\n",
       "    <tr>\n",
       "      <th>4</th>\n",
       "      <td>000043</td>\n",
       "      <td>GÜNLÜK SÜT 3 LT</td>\n",
       "      <td>193.0</td>\n",
       "      <td>289.0</td>\n",
       "    </tr>\n",
       "  </tbody>\n",
       "</table>\n",
       "</div>"
      ],
      "text/plain": [
       "                   Kodu                     Açıklama   2022    2023\n",
       "0  000039                            EL AÇMASI YUFKA  913.0  1141.0\n",
       "1  8699856790030         GEZEN TAVUK YUMURTASI 15 Lİ  221.0   337.0\n",
       "2  000044                            GÜNLÜK SÜT 5 LT  195.0   268.0\n",
       "3  000050                              KÖY YUMURTASI  195.0   177.0\n",
       "4  000043                            GÜNLÜK SÜT 3 LT  193.0   289.0"
      ]
     },
     "execution_count": 60,
     "metadata": {},
     "output_type": "execute_result"
    }
   ],
   "source": [
    "df = pd.read_excel('eşleşen_ürünler.xlsx')\n",
    "df.head()"
   ]
  },
  {
   "cell_type": "code",
   "execution_count": 67,
   "metadata": {},
   "outputs": [
    {
     "data": {
      "image/png": "[encoded data removed]",
      "text/plain": [
       "<Figure size 1200x600 with 1 Axes>"
      ]
     },
     "metadata": {},
     "output_type": "display_data"
    }
   ],
   "source": [
    "import pandas as pd\n",
    "import matplotlib.pyplot as plt\n",
    "\n",
    "# Excel dosyasını oku\n",
    "eşleşen_df = pd.read_excel('eşleşen_ürünler.xlsx')\n",
    "\n",
    "# İlk indexteki ürünü seç\n",
    "ilk_urun = eşleşen_df.iloc[3]\n",
    "\n",
    "# İlgili yılların miktarlarını ve açıklamayı al\n",
    "miktar_2022 = ilk_urun['2022']\n",
    "miktar_2023 = ilk_urun['2023']\n",
    "aciklama = ilk_urun['Açıklama']\n",
    "\n",
    "# Artış veya azalışı hesapla\n",
    "artis_azalis = miktar_2023 - miktar_2022\n",
    "renk = 'green' if artis_azalis > 0 else 'red'\n",
    "\n",
    "# Verileri bir çubuk grafikte göster\n",
    "plt.figure(figsize=(12, 6))\n",
    "plt.bar(['2022', '2023'], [miktar_2022, miktar_2023], color=['blue', 'green'])\n",
    "plt.text('2022', miktar_2022, str(miktar_2022), ha='center', va='bottom', fontsize=12)\n",
    "plt.text('2023', miktar_2023, str(miktar_2023), ha='center', va='bottom', fontsize=12)\n",
    "plt.xlabel('Yıl')\n",
    "plt.ylabel('Miktar')\n",
    "plt.title(f'{aciklama} Ürününün 2022 ve 2023 Miktar Karşılaştırması')\n",
    "plt.bar('Artış/Azalış', artis_azalis, color=renk)\n",
    "plt.text('Artış/Azalış', artis_azalis, f'{artis_azalis} ({artis_azalis/miktar_2022:.2%})', ha='center', va='bottom', fontsize=12)\n",
    "plt.xticks(rotation=45)\n",
    "plt.show()\n"
   ]
  },
  {
   "cell_type": "code",
   "execution_count": 71,
   "metadata": {},
   "outputs": [
    {
     "data": {
      "image/png": "[encoded data removed]",
      "text/plain": [
       "<Figure size 1200x600 with 1 Axes>"
      ]
     },
     "metadata": {},
     "output_type": "display_data"
    }
   ],
   "source": [
    "import pandas as pd\n",
    "import matplotlib.pyplot as plt\n",
    "\n",
    "# Excel dosyasını oku\n",
    "eşleşen_df = pd.read_excel('eşleşen_ürünler.xlsx')\n",
    "\n",
    "# İlk indexteki ürünü seç\n",
    "ilk_urun = eşleşen_df.iloc[3]\n",
    "\n",
    "# İlgili yılların miktarlarını ve açıklamayı al\n",
    "miktar_2022 = ilk_urun['2022']\n",
    "miktar_2023 = ilk_urun['2023']\n",
    "aciklama = ilk_urun['Açıklama']\n",
    "\n",
    "# Artış veya azalışı hesapla\n",
    "artis_azalis = miktar_2023 - miktar_2022\n",
    "renk = 'green' if artis_azalis > 0 else 'red'\n",
    "\n",
    "# Verileri bir çubuk grafikte göster\n",
    "plt.figure(figsize=(12, 6))\n",
    "plt.bar(['2022', '2023'], [miktar_2022, miktar_2023], color=['blue', 'green'])\n",
    "plt.text('2022', miktar_2022, str(miktar_2022), ha='center', va='bottom', fontsize=12)\n",
    "plt.text('2023', miktar_2023, str(miktar_2023), ha='center', va='bottom', fontsize=12)\n",
    "plt.xlabel('Yıl')\n",
    "plt.ylabel('Miktar')\n",
    "plt.title(f'{aciklama} Ürününün 2022 ve 2023 Miktar Karşılaştırması')\n",
    "\n",
    "# Artış/Azalış barını ok şeklinde çiz\n",
    "arrow_color = 'green' if artis_azalis > 0 else 'red'\n",
    "arrow_text = f'{artis_azalis} ({artis_azalis/miktar_2022:.2%})'\n",
    "arrow_x = 1\n",
    "arrow_y = max(miktar_2022, miktar_2023) + 50 if artis_azalis > 0 else min(miktar_2022, miktar_2023) - 50\n",
    "arrow = plt.annotate(arrow_text, (arrow_x, arrow_y), xytext=(arrow_x, arrow_y + 100),\n",
    "                     arrowprops=dict(arrowstyle='->', color=arrow_color, lw=2),\n",
    "                     fontsize=12, ha='center', va='bottom', color=arrow_color)\n",
    "\n",
    "plt.xticks(rotation=45)\n",
    "plt.show()\n"
   ]
  }
 ],
 "metadata": {
  "kernelspec": {
   "display_name": "Python 3",
   "language": "python",
   "name": "python3"
  },
  "language_info": {
   "codemirror_mode": {
    "name": "ipython",
    "version": 3
   },
   "file_extension": ".py",
   "mimetype": "text/x-python",
   "name": "python",
   "nbconvert_exporter": "python",
   "pygments_lexer": "ipython3",
   "version": "3.11.4"
  },
  "orig_nbformat": 4
 },
 "nbformat": 4,
 "nbformat_minor": 2
}
